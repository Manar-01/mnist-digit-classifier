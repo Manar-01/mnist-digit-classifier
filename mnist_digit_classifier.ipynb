{
 "cells": [
  {
   "cell_type": "markdown",
   "metadata": {
    "id": "LFjb1WbUtzcT"
   },
   "source": [
    "## Import Libraries"
   ]
  },
  {
   "cell_type": "code",
   "execution_count": null,
   "metadata": {
    "id": "vZuJJeZBt1NX"
   },
   "outputs": [],
   "source": [
    "# Import required libraries\n",
    "import numpy as np\n",
    "import matplotlib.pyplot as plt\n",
    "from keras.datasets import mnist\n",
    "from keras.models import Sequential\n",
    "from keras.layers import Conv2D, MaxPooling2D, Flatten, Dense\n",
    "from keras.utils import to_categorical\n",
    "from sklearn.model_selection import train_test_split"
   ]
  },
  {
   "cell_type": "markdown",
   "metadata": {
    "id": "izR8JS-irUfe"
   },
   "source": [
    "## Load the Dataset"
   ]
  },
  {
   "cell_type": "markdown",
   "metadata": {
    "id": "ksDVyrnEaqY9"
   },
   "source": [
    "Load the train and test subsets of the mnist dataset from Keras"
   ]
  },
  {
   "cell_type": "code",
   "execution_count": null,
   "metadata": {
    "id": "tPZGpMact7Hh"
   },
   "outputs": [],
   "source": [
    "import tensorflow as tf\n",
    "\n",
    "# Load the MNIST dataset\n",
    "(X_train, y_train), (X_test, y_test) = mnist.load_data()\n",
    "\n"
   ]
  },
  {
   "cell_type": "markdown",
   "metadata": {
    "id": "1hRAaUS5uBa5"
   },
   "source": [
    "## Data Pre-Processing"
   ]
  },
  {
   "cell_type": "markdown",
   "metadata": {
    "id": "pk-ekR4Wa1AD"
   },
   "source": [
    "\n",
    "*   Adjust the input shape to match the one the model is expecting\n",
    "*   Normalize the values of the pixels\n",
    "*   Turn labels into categories using the to_categorical function"
   ]
  },
  {
   "cell_type": "code",
   "execution_count": null,
   "metadata": {
    "colab": {
     "base_uri": "https://localhost:8080/"
    },
    "id": "6PlFzdt2uAOc",
    "outputId": "aa61582d-97f2-48c2-fb35-a2711209ef27"
   },
   "outputs": [
    {
     "name": "stdout",
     "output_type": "stream",
     "text": [
      "(60000, 28, 28, 1)\n"
     ]
    }
   ],
   "source": [
    "# Preprocess the data\n",
    "\n",
    "# Adjust the input shape to match the one the model is expecting\n",
    "X_train = np.expand_dims(X_train, axis=-1)\n",
    "X_test = np.expand_dims(X_test, axis=-1)\n",
    "print(X_train.shape)\n",
    "# Normalize the values of the pixels\n",
    "X_train = X_train / 255.0\n",
    "X_test = X_test / 255.0\n",
    "\n",
    "#Turn labels into categories using the to_categorical function\n",
    "y_train = to_categorical(y_train)\n",
    "y_test = to_categorical(y_test)"
   ]
  },
  {
   "cell_type": "markdown",
   "metadata": {
    "id": "C2P2NYGAu3uf"
   },
   "source": [
    "## Build and train a CNN"
   ]
  },
  {
   "cell_type": "markdown",
   "metadata": {
    "id": "gBh_E3p8yQJd"
   },
   "source": [
    "\n",
    "\n",
    "\n",
    "*   input shape\n",
    "*   activation function at the output layer\n",
    "*   number of output neurons\n",
    "\n"
   ]
  },
  {
   "cell_type": "code",
   "execution_count": null,
   "metadata": {
    "id": "cSKyObX3u6b5"
   },
   "outputs": [],
   "source": [
    "import matplotlib.pyplot as plt\n",
    "\n",
    "from keras.models import Sequential\n",
    "from keras.layers import Conv2D, MaxPooling2D, Flatten, Dense\n",
    "\n",
    "\n",
    "\n",
    "# Build the CNN model\n",
    "model = Sequential()\n",
    "model.add(Conv2D(32, (3, 3), activation='relu', input_shape=(28, 28, 1)))\n",
    "model.add(MaxPooling2D((2, 2)))\n",
    "model.add(Conv2D(64, (3, 3), activation='relu'))\n",
    "model.add(MaxPooling2D((2, 2)))\n",
    "model.add(Flatten())\n",
    "model.add(Dense(64, activation='relu'))\n",
    "model.add(Dense(10, activation='softmax'))\n",
    "\n",
    "\n",
    "\n"
   ]
  },
  {
   "cell_type": "markdown",
   "metadata": {
    "id": "Z37o5R4zyrRB"
   },
   "source": [
    "Compile and train the model. Choose an appropriate loss function, optimizer, and print out the accuracy of the model."
   ]
  },
  {
   "cell_type": "code",
   "execution_count": null,
   "metadata": {
    "colab": {
     "base_uri": "https://localhost:8080/"
    },
    "id": "EsBT-jSlyo35",
    "outputId": "914a9c3a-4783-46a1-d902-f6ab6851bc07"
   },
   "outputs": [
    {
     "name": "stdout",
     "output_type": "stream",
     "text": [
      "Epoch 1/10\n",
      "3000/3000 [==============================] - 40s 13ms/step - loss: 0.1274 - accuracy: 0.9609 - precision: 0.9740 - recall: 0.9503 - val_loss: 0.0504 - val_accuracy: 0.9841 - val_precision: 0.9861 - val_recall: 0.9823\n",
      "Epoch 2/10\n",
      "3000/3000 [==============================] - 39s 13ms/step - loss: 0.0430 - accuracy: 0.9870 - precision: 0.9886 - recall: 0.9858 - val_loss: 0.0495 - val_accuracy: 0.9850 - val_precision: 0.9862 - val_recall: 0.9839\n",
      "Epoch 3/10\n",
      "3000/3000 [==============================] - 39s 13ms/step - loss: 0.0299 - accuracy: 0.9906 - precision: 0.9915 - recall: 0.9899 - val_loss: 0.0382 - val_accuracy: 0.9881 - val_precision: 0.9895 - val_recall: 0.9874\n",
      "Epoch 4/10\n",
      "3000/3000 [==============================] - 38s 13ms/step - loss: 0.0221 - accuracy: 0.9930 - precision: 0.9934 - recall: 0.9926 - val_loss: 0.0314 - val_accuracy: 0.9898 - val_precision: 0.9909 - val_recall: 0.9893\n",
      "Epoch 5/10\n",
      "3000/3000 [==============================] - 39s 13ms/step - loss: 0.0171 - accuracy: 0.9945 - precision: 0.9949 - recall: 0.9942 - val_loss: 0.0309 - val_accuracy: 0.9899 - val_precision: 0.9903 - val_recall: 0.9895\n",
      "Epoch 6/10\n",
      "3000/3000 [==============================] - 39s 13ms/step - loss: 0.0127 - accuracy: 0.9957 - precision: 0.9959 - recall: 0.9954 - val_loss: 0.0395 - val_accuracy: 0.9883 - val_precision: 0.9884 - val_recall: 0.9880\n",
      "Epoch 7/10\n",
      "3000/3000 [==============================] - 39s 13ms/step - loss: 0.0101 - accuracy: 0.9966 - precision: 0.9969 - recall: 0.9966 - val_loss: 0.0396 - val_accuracy: 0.9899 - val_precision: 0.9905 - val_recall: 0.9894\n",
      "Epoch 8/10\n",
      "3000/3000 [==============================] - 38s 13ms/step - loss: 0.0085 - accuracy: 0.9971 - precision: 0.9972 - recall: 0.9970 - val_loss: 0.0400 - val_accuracy: 0.9907 - val_precision: 0.9910 - val_recall: 0.9904\n",
      "Epoch 9/10\n",
      "3000/3000 [==============================] - 38s 13ms/step - loss: 0.0078 - accuracy: 0.9974 - precision: 0.9975 - recall: 0.9974 - val_loss: 0.0380 - val_accuracy: 0.9914 - val_precision: 0.9919 - val_recall: 0.9913\n",
      "Epoch 10/10\n",
      "3000/3000 [==============================] - 39s 13ms/step - loss: 0.0071 - accuracy: 0.9977 - precision: 0.9978 - recall: 0.9977 - val_loss: 0.0404 - val_accuracy: 0.9904 - val_precision: 0.9908 - val_recall: 0.9903\n"
     ]
    }
   ],
   "source": [
    "# Compile the model\n",
    "model.compile(optimizer='adam',\n",
    "                     loss='categorical_crossentropy',\n",
    "                     metrics=['accuracy', 'Precision', 'Recall'])\n",
    "\n",
    "# Train the model\n",
    "history = model.fit(X_train, y_train, validation_data=(X_test, y_test), epochs=10, batch_size = 20)\n"
   ]
  },
  {
   "cell_type": "markdown",
   "metadata": {
    "id": "LaYsKjVSu9KF"
   },
   "source": [
    "## Evaluate the Model's performance"
   ]
  },
  {
   "cell_type": "markdown",
   "metadata": {
    "id": "57_7ykVky_j_"
   },
   "source": [
    "Plot the training and validation accuracy to better understand the performance of the model."
   ]
  },
  {
   "cell_type": "code",
   "execution_count": null,
   "metadata": {
    "colab": {
     "base_uri": "https://localhost:8080/",
     "height": 594
    },
    "id": "-KqzKudQu8rv",
    "outputId": "68c8e679-381a-45c3-a7bf-f5283c95fde0"
   },
   "outputs": [
    {
     "name": "stdout",
     "output_type": "stream",
     "text": [
      "313/313 [==============================] - 2s 8ms/step - loss: 0.0404 - accuracy: 0.9904 - precision: 0.9908 - recall: 0.9903\n",
      "313/313 [==============================] - 2s 6ms/step - loss: 0.0404 - accuracy: 0.9904 - precision: 0.9908 - recall: 0.9903\n",
      "Test Accuracy: 0.9904000163078308\n"
     ]
    },
    {
     "data": {
      "image/png": "[encoded data removed]",
      "text/plain": [
       "<Figure size 1000x600 with 1 Axes>"
      ]
     },
     "metadata": {},
     "output_type": "display_data"
    }
   ],
   "source": [
    "# Evaluate the model on the test set\n",
    "(test_loss, test_accuracy) = model.evaluate(X_test, y_test)[0],model.evaluate(X_test, y_test)[1]\n",
    "print(\"Test Accuracy:\", test_accuracy)\n",
    "\n",
    "# Plot the training and validation accuracy over epochs\n",
    "plt.figure(figsize=(10, 6))\n",
    "plt.plot(history.history['accuracy'], label='Training Accuracy')\n",
    "plt.plot(history.history['val_accuracy'], label='Validation Accuracy')\n",
    "\n",
    "\n",
    "\n",
    "plt.xlabel('Epoch')\n",
    "plt.ylabel('Accuracy')\n",
    "plt.legend()\n",
    "plt.show()\n"
   ]
  }
 ],
 "metadata": {
  "colab": {
   "provenance": [],
   "toc_visible": true
  },
  "kernelspec": {
   "display_name": "Python 3 (ipykernel)",
   "language": "python",
   "name": "python3"
  },
  "language_info": {
   "codemirror_mode": {
    "name": "ipython",
    "version": 3
   },
   "file_extension": ".py",
   "mimetype": "text/x-python",
   "name": "python",
   "nbconvert_exporter": "python",
   "pygments_lexer": "ipython3",
   "version": "3.12.4"
  }
 },
 "nbformat": 4,
 "nbformat_minor": 4
}
